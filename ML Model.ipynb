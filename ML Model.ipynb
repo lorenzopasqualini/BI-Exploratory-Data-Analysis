{
 "cells": [
  {
   "cell_type": "markdown",
   "metadata": {},
   "source": [
    "# Machine Learning Modeling Exercise\n"
   ]
  },
  {
   "cell_type": "markdown",
   "metadata": {},
   "source": [
    "## 1. Import libraries\n"
   ]
  },
  {
   "cell_type": "code",
   "execution_count": 1,
   "metadata": {},
   "outputs": [],
   "source": [
    "import pandas as pd\n",
    "import numpy as np\n",
    "import matplotlib.pylab as plt\n",
    "import seaborn as sns\n",
    "import warnings\n",
    "warnings.filterwarnings(\"ignore\")"
   ]
  },
  {
   "cell_type": "code",
   "execution_count": 2,
   "metadata": {},
   "outputs": [],
   "source": [
    "from sklearn.model_selection import train_test_split\n",
    "from sklearn.linear_model import LogisticRegression\n",
    "from sklearn.ensemble import RandomForestClassifier\n",
    "from sklearn import metrics\n",
    "from sklearn.metrics import (\n",
    "    roc_curve,\n",
    "    roc_auc_score,\n",
    "    confusion_matrix,\n",
    "    classification_report,\n",
    ")"
   ]
  },
  {
   "cell_type": "markdown",
   "metadata": {},
   "source": [
    "## 2. Explore dataset"
   ]
  },
  {
   "cell_type": "code",
   "execution_count": 3,
   "metadata": {},
   "outputs": [
    {
     "data": {
      "text/html": [
       "<div>\n",
       "<style scoped>\n",
       "    .dataframe tbody tr th:only-of-type {\n",
       "        vertical-align: middle;\n",
       "    }\n",
       "\n",
       "    .dataframe tbody tr th {\n",
       "        vertical-align: top;\n",
       "    }\n",
       "\n",
       "    .dataframe thead th {\n",
       "        text-align: right;\n",
       "    }\n",
       "</style>\n",
       "<table border=\"1\" class=\"dataframe\">\n",
       "  <thead>\n",
       "    <tr style=\"text-align: right;\">\n",
       "      <th></th>\n",
       "      <th>User ID</th>\n",
       "      <th>Acquired Campaign</th>\n",
       "      <th>Country</th>\n",
       "      <th>Platform</th>\n",
       "      <th>Device Model (OS)</th>\n",
       "      <th>LTV Revenue</th>\n",
       "      <th>LTV Currency</th>\n",
       "      <th>Event Name</th>\n",
       "      <th>Event Date</th>\n",
       "      <th>Event Value (USD)</th>\n",
       "      <th>Event Count</th>\n",
       "    </tr>\n",
       "  </thead>\n",
       "  <tbody>\n",
       "    <tr>\n",
       "      <th>0</th>\n",
       "      <td>ZZZZC2DZ-982C-D4DD-C59Z-A8ZD0CBBA74F</td>\n",
       "      <td>(direct)</td>\n",
       "      <td>Brazil</td>\n",
       "      <td>IOS</td>\n",
       "      <td>iPhone9,3</td>\n",
       "      <td>NaN</td>\n",
       "      <td>NaN</td>\n",
       "      <td>user_engagement</td>\n",
       "      <td>2021-08-29</td>\n",
       "      <td>NaN</td>\n",
       "      <td>5</td>\n",
       "    </tr>\n",
       "    <tr>\n",
       "      <th>1</th>\n",
       "      <td>ZZZZC2DZ-982C-D4DD-C59Z-A8ZD0CBBA74F</td>\n",
       "      <td>(direct)</td>\n",
       "      <td>Brazil</td>\n",
       "      <td>IOS</td>\n",
       "      <td>iPhone9,3</td>\n",
       "      <td>NaN</td>\n",
       "      <td>NaN</td>\n",
       "      <td>screen_view</td>\n",
       "      <td>2021-08-29</td>\n",
       "      <td>NaN</td>\n",
       "      <td>4</td>\n",
       "    </tr>\n",
       "    <tr>\n",
       "      <th>2</th>\n",
       "      <td>ZZZZC2DZ-982C-D4DD-C59Z-A8ZD0CBBA74F</td>\n",
       "      <td>(direct)</td>\n",
       "      <td>Brazil</td>\n",
       "      <td>IOS</td>\n",
       "      <td>iPhone9,3</td>\n",
       "      <td>NaN</td>\n",
       "      <td>NaN</td>\n",
       "      <td>session_start</td>\n",
       "      <td>2021-08-29</td>\n",
       "      <td>NaN</td>\n",
       "      <td>1</td>\n",
       "    </tr>\n",
       "    <tr>\n",
       "      <th>3</th>\n",
       "      <td>ZZZZC2DZ-982C-D4DD-C59Z-A8ZD0CBBA74F</td>\n",
       "      <td>(direct)</td>\n",
       "      <td>Brazil</td>\n",
       "      <td>IOS</td>\n",
       "      <td>iPhone9,3</td>\n",
       "      <td>NaN</td>\n",
       "      <td>NaN</td>\n",
       "      <td>login_help_screen_open</td>\n",
       "      <td>2021-08-29</td>\n",
       "      <td>NaN</td>\n",
       "      <td>2</td>\n",
       "    </tr>\n",
       "    <tr>\n",
       "      <th>4</th>\n",
       "      <td>ZZZ8F57Z-9EC6-3D44-BEAA-898829Z611ZA</td>\n",
       "      <td>(direct)</td>\n",
       "      <td>United States</td>\n",
       "      <td>IOS</td>\n",
       "      <td>iPhone12,1</td>\n",
       "      <td>NaN</td>\n",
       "      <td>NaN</td>\n",
       "      <td>screen_view</td>\n",
       "      <td>2021-09-02</td>\n",
       "      <td>NaN</td>\n",
       "      <td>2</td>\n",
       "    </tr>\n",
       "  </tbody>\n",
       "</table>\n",
       "</div>"
      ],
      "text/plain": [
       "                                User ID Acquired Campaign        Country  \\\n",
       "0  ZZZZC2DZ-982C-D4DD-C59Z-A8ZD0CBBA74F          (direct)         Brazil   \n",
       "1  ZZZZC2DZ-982C-D4DD-C59Z-A8ZD0CBBA74F          (direct)         Brazil   \n",
       "2  ZZZZC2DZ-982C-D4DD-C59Z-A8ZD0CBBA74F          (direct)         Brazil   \n",
       "3  ZZZZC2DZ-982C-D4DD-C59Z-A8ZD0CBBA74F          (direct)         Brazil   \n",
       "4  ZZZ8F57Z-9EC6-3D44-BEAA-898829Z611ZA          (direct)  United States   \n",
       "\n",
       "  Platform Device Model (OS)  LTV Revenue LTV Currency  \\\n",
       "0      IOS         iPhone9,3          NaN          NaN   \n",
       "1      IOS         iPhone9,3          NaN          NaN   \n",
       "2      IOS         iPhone9,3          NaN          NaN   \n",
       "3      IOS         iPhone9,3          NaN          NaN   \n",
       "4      IOS        iPhone12,1          NaN          NaN   \n",
       "\n",
       "               Event Name Event Date  Event Value (USD)  Event Count  \n",
       "0         user_engagement 2021-08-29                NaN            5  \n",
       "1             screen_view 2021-08-29                NaN            4  \n",
       "2           session_start 2021-08-29                NaN            1  \n",
       "3  login_help_screen_open 2021-08-29                NaN            2  \n",
       "4             screen_view 2021-09-02                NaN            2  "
      ]
     },
     "execution_count": 3,
     "metadata": {},
     "output_type": "execute_result"
    }
   ],
   "source": [
    "df_raw = pd.read_excel(\"Test Data analyst EDA 2023.xlsx\")\n",
    "df_raw.head()"
   ]
  },
  {
   "cell_type": "markdown",
   "metadata": {},
   "source": [
    "## 3. Problem Definition"
   ]
  },
  {
   "cell_type": "markdown",
   "metadata": {},
   "source": [
    "If we seek to predict whether a user will engage in the `in_app_purchase` event or not, it is important to understand that this is a **classification** problem.\n",
    "\n",
    "We wish to classify the event trigger in either:\n",
    "\n",
    "- **YES**, it is, in fact, an `in_app_purchase` event\n",
    "\n",
    "or\n",
    "\n",
    "- **NO**, it is a non-purchase related event entirely.\n"
   ]
  },
  {
   "cell_type": "markdown",
   "metadata": {},
   "source": [
    "## 4. Feature Engineering"
   ]
  },
  {
   "cell_type": "markdown",
   "metadata": {},
   "source": [
    "Every `in_app_purchase` only counts as a single _Event Count_, which is why we discard every other event that > 1.\n"
   ]
  },
  {
   "cell_type": "code",
   "execution_count": 4,
   "metadata": {},
   "outputs": [],
   "source": [
    "df_raw = df_raw[df_raw[\"Event Count\"] == 1]"
   ]
  },
  {
   "cell_type": "markdown",
   "metadata": {},
   "source": [
    "First course of action would be to create our **target variable**, which occurs when the _Event Name_ is `in_app_purchase`, through boolean values."
   ]
  },
  {
   "cell_type": "code",
   "execution_count": 5,
   "metadata": {},
   "outputs": [],
   "source": [
    "df_raw[\"Purchase Event\"] = np.where((df_raw[\"Event Name\"] == \"in_app_purchase\"), 1, 0)"
   ]
  },
  {
   "cell_type": "markdown",
   "metadata": {},
   "source": [
    "We count these instances and plot them to see how many there are of each."
   ]
  },
  {
   "cell_type": "code",
   "execution_count": 6,
   "metadata": {},
   "outputs": [
    {
     "data": {
      "image/png": "[encoded data removed]",
      "text/plain": [
       "<Figure size 2592x432 with 1 Axes>"
      ]
     },
     "metadata": {
      "needs_background": "light"
     },
     "output_type": "display_data"
    }
   ],
   "source": [
    "df1 = df_raw[\"Purchase Event\"].value_counts()\n",
    "df1.plot(kind=\"barh\", figsize=(36, 6), color='orange')\n",
    "plt.show()"
   ]
  },
  {
   "cell_type": "markdown",
   "metadata": {},
   "source": [
    "Here we encounter a few problems. Our target variable is immensely **unbalanced**, at a **1:248** ratio. This will have severe repercussions when it comes to interpreting the metrics of performance of the models. Spoiler alert: be careful when settling for high accuracy!"
   ]
  },
  {
   "cell_type": "markdown",
   "metadata": {},
   "source": [
    "Now onto the **regressor variables**.\n",
    "\n",
    "There are 3 potential numeric variables: *LTV Revenue*, *Event Value (USD)* and *Event Count*.\n",
    "\n",
    "- Event Count is already discarded due to the fact that every `in_app_purchase` event is = 1 but not all = 1 is an `in_app_purchase` event. In other words, every time Event Count is > 1, it isn't `in_app_purchase`, which means that this isn't a stochastic process. We want to know that, when it is in fact = 1, we can predict if it is `in_app_purchase`.\n",
    "- Event Value (USD) has a similar issue. When Event Value (USD) isn't null, it will inevitably be an `in_app_purchase` event as a result, and vice-versa. Adding this column pretty much gives it away, because the model becomes deterministic.\n",
    "- LTV Revenue, as seen in the first exercise, has an issue regarding its quality of data. It would be bad practice to include spurious variables.\n",
    "\n",
    "This leaves us with only categoric variables to play with, which makes the task a bit more challenging."
   ]
  },
  {
   "cell_type": "markdown",
   "metadata": {},
   "source": [
    "### a. Categorization"
   ]
  },
  {
   "cell_type": "markdown",
   "metadata": {},
   "source": [
    "Most of our categorical variables hold plenty of categories that could be grouped into general ones, such as the Redmi Note 8 and the Redmi Note 9 Pro being grouped simply as *Redmi*. Keeping lower categories would mean that, after the one-hot encoding process, a lot of sparse matrices will remain. This decision is made in an attempt to make the model more **parsimonious**."
   ]
  },
  {
   "cell_type": "markdown",
   "metadata": {},
   "source": [
    "- Device Models -> Mobiles"
   ]
  },
  {
   "cell_type": "code",
   "execution_count": 7,
   "metadata": {},
   "outputs": [],
   "source": [
    "conditions = [\n",
    "    (df_raw[\"Device Model (OS)\"].str.contains(\"iP\", case=False, na=False)),\n",
    "    (df_raw[\"Device Model (OS)\"].str.contains(\"Redmi\", case=False, na=False)),\n",
    "    (df_raw[\"Device Model (OS)\"].str.contains(\"SM\", case=False, na=False)),\n",
    "]\n",
    "\n",
    "values = [\"iPhone/iPad\", \"Redmi\", \"Samsung\"]\n",
    "df_raw[\"Mobiles\"] = np.select(conditions, values)\n",
    "\n",
    "df_raw[\"Mobiles\"] = np.where((df_raw[\"Mobiles\"] == \"0\"), \"Other Devices\", df_raw[\"Mobiles\"])"
   ]
  },
  {
   "cell_type": "markdown",
   "metadata": {},
   "source": [
    "- Acquired Campaign -> User Source Acquisition"
   ]
  },
  {
   "cell_type": "code",
   "execution_count": 8,
   "metadata": {},
   "outputs": [],
   "source": [
    "conditions = [\n",
    "    (df_raw[\"Acquired Campaign\"] == \"(direct)\"),\n",
    "    (df_raw[\"Acquired Campaign\"].str.contains(\"hard\", case=False, na=False)),\n",
    "    (df_raw[\"Acquired Campaign\"].str.contains(\"soft\", case=False, na=False)),\n",
    "    (df_raw[\"Acquired Campaign\"] == \"iOS_US_Eng_Actions\") | (df_raw[\"Acquired Campaign\"] == \"AND_BR_Por_Actions\") | (df_raw[\"Acquired Campaign\"] == \"AND_US_Eng_Actions\"),\n",
    "    (df_raw[\"Acquired Campaign\"].isnull()),\n",
    "]\n",
    "\n",
    "values = [\"Direct\", \"Hard\", \"Soft\", \"Other Sources\", \"Not categorzied\"]\n",
    "df_raw[\"User Source Acquisition\"] = np.select(conditions, values)"
   ]
  },
  {
   "cell_type": "markdown",
   "metadata": {},
   "source": [
    "- Country -> Countries Grouped"
   ]
  },
  {
   "cell_type": "code",
   "execution_count": 9,
   "metadata": {},
   "outputs": [],
   "source": [
    "conditions = [\n",
    "    (df_raw[\"Country\"] == \"United States\"),\n",
    "    (df_raw[\"Country\"] == \"Brazil\"),\n",
    "    (df_raw[\"Country\"] == \"Canada\"),\n",
    "]\n",
    "\n",
    "values = [\"United States\", \"Brazil\", \"Canada\"]\n",
    "df_raw[\"Countries Grouped\"] = np.select(conditions, values)\n",
    "df_raw[\"Countries Grouped\"] = np.where(df_raw[\"Countries Grouped\"] == \"0\", \"Rest of World\", df_raw[\"Countries Grouped\"])"
   ]
  },
  {
   "cell_type": "markdown",
   "metadata": {},
   "source": [
    "### b. One-hot Enconding"
   ]
  },
  {
   "cell_type": "code",
   "execution_count": 10,
   "metadata": {},
   "outputs": [],
   "source": [
    "ex1 = df_raw[[\"User Source Acquisition\", \"Countries Grouped\", \"Platform\", \"Mobiles\", \"Purchase Event\"]]\n",
    "\n",
    "var = ex1[[\"User Source Acquisition\", \"Countries Grouped\", \"Platform\", \"Mobiles\"]]\n",
    "var = pd.get_dummies(var, drop_first=True)"
   ]
  },
  {
   "cell_type": "markdown",
   "metadata": {},
   "source": [
    "### c. Train Test Split"
   ]
  },
  {
   "cell_type": "code",
   "execution_count": 11,
   "metadata": {},
   "outputs": [],
   "source": [
    "y = ex1[\"Purchase Event\"].values\n",
    "x = var\n",
    "\n",
    "x_train, x_test, y_train, y_test = train_test_split(x, y, test_size=0.2, random_state=10)"
   ]
  },
  {
   "cell_type": "markdown",
   "metadata": {},
   "source": [
    "## 5. Modelization"
   ]
  },
  {
   "cell_type": "markdown",
   "metadata": {},
   "source": [
    "We're going to try 2 popular and proven classification models typically used in similar context: *Logistic Regression* and *Random Forest*."
   ]
  },
  {
   "cell_type": "code",
   "execution_count": 12,
   "metadata": {},
   "outputs": [
    {
     "name": "stdout",
     "output_type": "stream",
     "text": [
      "              precision    recall  f1-score   support\n",
      "\n",
      "           0       1.00      1.00      1.00     31543\n",
      "           1       0.00      0.00      0.00       120\n",
      "\n",
      "    accuracy                           1.00     31663\n",
      "   macro avg       0.50      0.50      0.50     31663\n",
      "weighted avg       0.99      1.00      0.99     31663\n",
      "\n",
      "ROC: 0.5\n"
     ]
    },
    {
     "data": {
      "image/png": "[encoded data removed]",
      "text/plain": [
       "<Figure size 360x360 with 1 Axes>"
      ]
     },
     "metadata": {
      "needs_background": "light"
     },
     "output_type": "display_data"
    }
   ],
   "source": [
    "Reg_Log = LogisticRegression(random_state=10, max_iter=500).fit(x_train, y_train)\n",
    "\n",
    "predict_Reg_Log = Reg_Log.predict(x_test)\n",
    "\n",
    "ROC_Reg_Log = roc_auc_score(y_test, predict_Reg_Log)\n",
    "print(metrics.classification_report(y_test, predict_Reg_Log))\n",
    "print(\"ROC:\", ROC_Reg_Log)\n",
    "\n",
    "fpr, tpr, thresholds = roc_curve(y_test, Reg_Log.predict_proba(x_test)[:, 1])\n",
    "plt.figure(figsize=(5, 5))\n",
    "plt.plot(fpr, tpr, label=\"Reg Log ROC (area = %0.2f)\" % ROC_Reg_Log)\n",
    "plt.plot([0, 1], [0, 1], \"r--\")\n",
    "plt.xlim([-0.05, 1.05])\n",
    "plt.ylim([-0.05, 1.05])\n",
    "plt.xlabel(\"False Positive Rate\")\n",
    "plt.ylabel(\"True Positive Rate\")\n",
    "plt.title(\"ROC Curve for Logistic Regression\")\n",
    "plt.legend(loc=\"lower right\")\n",
    "plt.savefig(\"Reg Log\")\n",
    "plt.show()"
   ]
  },
  {
   "cell_type": "markdown",
   "metadata": {},
   "source": [
    "Logistic Regressions are one of the most simple classification models, with its greatest virtue being its power of interpretability to facilitate decision-making. Neverthelss, its predictive power is not too strong nor our data follows a linear structure, which is why we're now trying a Random Forest."
   ]
  },
  {
   "cell_type": "code",
   "execution_count": 13,
   "metadata": {},
   "outputs": [
    {
     "name": "stdout",
     "output_type": "stream",
     "text": [
      "              precision    recall  f1-score   support\n",
      "\n",
      "           0       1.00      1.00      1.00     31543\n",
      "           1       0.00      0.00      0.00       120\n",
      "\n",
      "    accuracy                           1.00     31663\n",
      "   macro avg       0.50      0.50      0.50     31663\n",
      "weighted avg       0.99      1.00      0.99     31663\n",
      "\n",
      "ROC: 0.5\n"
     ]
    },
    {
     "data": {
      "image/png": "[encoded data removed]",
      "text/plain": [
       "<Figure size 360x360 with 1 Axes>"
      ]
     },
     "metadata": {
      "needs_background": "light"
     },
     "output_type": "display_data"
    }
   ],
   "source": [
    "Rand_Forest_clasif = RandomForestClassifier(\n",
    "    n_estimators=500,\n",
    "    random_state=42,\n",
    "    min_samples_split=5,\n",
    "    max_depth=30,\n",
    "    max_features=\"sqrt\",\n",
    "    bootstrap=True,\n",
    ")\n",
    "\n",
    "Rand_Forest_clasif.fit(x_train.values, y_train)\n",
    "\n",
    "y_pred_Rand_Forest = Rand_Forest_clasif.predict(x_test.values)\n",
    "\n",
    "ROC_Rand_Forest = roc_auc_score(y_test, y_pred_Rand_Forest)\n",
    "print(classification_report(y_test, y_pred_Rand_Forest))\n",
    "print(\"ROC:\", ROC_Rand_Forest)\n",
    "\n",
    "fpr, tpr, thresholds = roc_curve(y_test, Rand_Forest_clasif.predict_proba(x_test.values)[:, 1])\n",
    "plt.figure(figsize=(5, 5))\n",
    "plt.plot(fpr, tpr, label=\"Rand Forest ROC (area = %0.2f)\" % ROC_Rand_Forest)\n",
    "plt.plot([0, 1], [0, 1], \"r--\")\n",
    "plt.xlim([-0.05, 1.05])\n",
    "plt.ylim([-0.05, 1.05])\n",
    "plt.xlabel(\"False Positive Rate\")\n",
    "plt.ylabel(\"True Positive Rate\")\n",
    "plt.title(\"ROC Curve for Random Forest\")\n",
    "plt.legend(loc=\"lower right\")\n",
    "plt.savefig(\"Rand Forest\")\n",
    "plt.show()"
   ]
  },
  {
   "cell_type": "markdown",
   "metadata": {},
   "source": [
    "Although being a simple yet stronger model when it comes to prediction, while also handling non-linear data structures, we couldn't make progress in terms of results."
   ]
  },
  {
   "cell_type": "code",
   "execution_count": 14,
   "metadata": {},
   "outputs": [
    {
     "data": {
      "image/png": "[encoded data removed]",
      "text/plain": [
       "<Figure size 864x432 with 2 Axes>"
      ]
     },
     "metadata": {
      "needs_background": "light"
     },
     "output_type": "display_data"
    }
   ],
   "source": [
    "ran = confusion_matrix(y_test, y_pred_Rand_Forest)\n",
    "log = confusion_matrix(y_test, predict_Reg_Log)\n",
    "\n",
    "fig, axes = plt.subplots(1, 2, figsize=(12, 6))\n",
    "\n",
    "sns.heatmap(log, annot=True, fmt=\"d\", cmap=\"Oranges\", cbar=False, ax=axes[0])\n",
    "axes[0].set_xlabel(\"Predicted\")\n",
    "axes[0].set_ylabel(\"Actual\")\n",
    "axes[0].set_title(\"Random Forest Confusion Matrix\")\n",
    "\n",
    "sns.heatmap(ran, annot=True, fmt=\"d\", cmap=\"Greens\", cbar=False, ax=axes[1])\n",
    "axes[1].set_xlabel(\"Predicted\")\n",
    "axes[1].set_ylabel(\"Actual\")\n",
    "axes[1].set_title(\"Logistic Regression Confusion Matrix\")\n",
    "\n",
    "plt.show()"
   ]
  },
  {
   "cell_type": "markdown",
   "metadata": {},
   "source": [
    "In both models, the majority variable is well predicted (shocker...) but it never predicts the `in_app_purchase` events (top left and bottom right quandrants respectively). To add insult to injury, a few cases in which a user doesn't engage in this event are incorrectly assumed as users that do.\n",
    "\n",
    "Of course the accuracy of both models is high, because most of the predicted cases are objectively correct. Same way as if you were to bet on all the horses at a horse race: you win either way.\n",
    "\n",
    "All in all, none of these models are good enough to predict whether a user is going to purchase or not."
   ]
  },
  {
   "cell_type": "markdown",
   "metadata": {},
   "source": [
    "## 6. Bootstrap"
   ]
  },
  {
   "cell_type": "markdown",
   "metadata": {},
   "source": [
    "In an effort to find a better solution to this predictive problem, we'll try to balance out, at least a little, the unbalanced target variable; especially seeing that looking for different variables is not an option.\n",
    "\n",
    "We're going to use the **Bootstrap** technique, consisting of repeatedly, and randomly, drawing samples from the dataset with replacement."
   ]
  },
  {
   "cell_type": "code",
   "execution_count": 15,
   "metadata": {},
   "outputs": [],
   "source": [
    "class_counts = df_raw[\"Purchase Event\"].value_counts()\n",
    "\n",
    "majority_class = class_counts.idxmax()\n",
    "minority_class = class_counts.idxmin()\n",
    "\n",
    "minority_bootstrap = df_raw[df_raw[\"Purchase Event\"] == minority_class].sample(30000, replace=True, random_state=42)\n",
    "\n",
    "df_balanced = pd.concat([df_raw[df_raw[\"Purchase Event\"] == majority_class], minority_bootstrap])\n",
    "\n",
    "df_balanced = df_balanced.sample(frac=1, random_state=42).reset_index(drop=True)"
   ]
  },
  {
   "cell_type": "markdown",
   "metadata": {},
   "source": [
    "The minority class, in this case being the occurances of an `in_app_purchase` event, is resampled about 30.000 times and then concatenated back with the majority class. This new `balanced_df` is then shuffled once again."
   ]
  },
  {
   "cell_type": "code",
   "execution_count": 16,
   "metadata": {},
   "outputs": [
    {
     "data": {
      "image/png": "[encoded data removed]",
      "text/plain": [
       "<Figure size 2592x432 with 1 Axes>"
      ]
     },
     "metadata": {
      "needs_background": "light"
     },
     "output_type": "display_data"
    }
   ],
   "source": [
    "df2 = df_balanced[\"Purchase Event\"].value_counts()\n",
    "df2.plot(kind=\"barh\", figsize=(36, 6), color='orange')\n",
    "plt.show()"
   ]
  },
  {
   "cell_type": "markdown",
   "metadata": {},
   "source": [
    "Bootstraping helped increase the sample size of the minority class, at least enough to help increase the prediction power of the models; albeit with a potential trade-off in regards to using artificial data. Below we repeat the same feature engineering process and training of the same models, now with the bootstrapped dataset."
   ]
  },
  {
   "cell_type": "code",
   "execution_count": 17,
   "metadata": {},
   "outputs": [],
   "source": [
    "conditions = [\n",
    "    (df_balanced[\"Device Model (OS)\"].str.contains(\"iP\", case=False, na=False)),\n",
    "    (df_balanced[\"Device Model (OS)\"].str.contains(\"Redmi\", case=False, na=False)),\n",
    "    (df_balanced[\"Device Model (OS)\"].str.contains(\"SM\", case=False, na=False)),\n",
    "]\n",
    "\n",
    "values = [\"iPhone/iPad\", \"Redmi\", \"Samsung\"]\n",
    "df_balanced[\"Mobiles\"] = np.select(conditions, values)\n",
    "\n",
    "df_balanced[\"Mobiles\"] = np.where((df_balanced[\"Mobiles\"] == \"0\"), \"Other Devices\", df_balanced[\"Mobiles\"])"
   ]
  },
  {
   "cell_type": "code",
   "execution_count": 18,
   "metadata": {},
   "outputs": [],
   "source": [
    "conditions = [\n",
    "    (df_balanced[\"Acquired Campaign\"] == \"(direct)\"),\n",
    "    (df_balanced[\"Acquired Campaign\"].str.contains(\"hard\", case=False, na=False)),\n",
    "    (df_balanced[\"Acquired Campaign\"].str.contains(\"soft\", case=False, na=False)),\n",
    "    (df_balanced[\"Acquired Campaign\"] == \"iOS_US_Eng_Actions\") | (df_balanced[\"Acquired Campaign\"] == \"AND_BR_Por_Actions\") | (df_balanced[\"Acquired Campaign\"] == \"AND_US_Eng_Actions\"),\n",
    "    (df_balanced[\"Acquired Campaign\"].isnull()),\n",
    "]\n",
    "\n",
    "values = [\"Direct\", \"Hard\", \"Soft\", \"Other Sources\", \"Not categorzied\"]\n",
    "df_balanced[\"User Source Acquisition\"] = np.select(conditions, values)"
   ]
  },
  {
   "cell_type": "code",
   "execution_count": 19,
   "metadata": {},
   "outputs": [],
   "source": [
    "conditions = [\n",
    "    (df_balanced[\"Country\"] == \"United States\"),\n",
    "    (df_balanced[\"Country\"] == \"Brazil\"),\n",
    "    (df_balanced[\"Country\"] == \"Canada\"),\n",
    "]\n",
    "\n",
    "values = [\"United States\", \"Brazil\", \"Canada\"]\n",
    "df_balanced[\"Countries Grouped\"] = np.select(conditions, values)\n",
    "df_balanced[\"Countries Grouped\"] = np.where(df_balanced[\"Countries Grouped\"] == \"0\", \"Rest of World\", df_balanced[\"Countries Grouped\"])"
   ]
  },
  {
   "cell_type": "code",
   "execution_count": 20,
   "metadata": {},
   "outputs": [],
   "source": [
    "ex2 = df_balanced[[\"User Source Acquisition\", \"Countries Grouped\", \"Platform\", \"Mobiles\", \"Purchase Event\"]]\n",
    "\n",
    "var = ex2[[\"User Source Acquisition\", \"Countries Grouped\", \"Platform\", \"Mobiles\"]]\n",
    "var = pd.get_dummies(var, drop_first=True)"
   ]
  },
  {
   "cell_type": "code",
   "execution_count": 21,
   "metadata": {},
   "outputs": [],
   "source": [
    "y = ex2[\"Purchase Event\"].values\n",
    "x = var\n",
    "\n",
    "x_train, x_test, y_train, y_test = train_test_split(x, y, test_size=0.2, random_state=10)"
   ]
  },
  {
   "cell_type": "code",
   "execution_count": 22,
   "metadata": {},
   "outputs": [
    {
     "name": "stdout",
     "output_type": "stream",
     "text": [
      "              precision    recall  f1-score   support\n",
      "\n",
      "           0       0.85      1.00      0.92     31665\n",
      "           1       0.61      0.02      0.04      5871\n",
      "\n",
      "    accuracy                           0.84     37536\n",
      "   macro avg       0.73      0.51      0.48     37536\n",
      "weighted avg       0.81      0.84      0.78     37536\n",
      "\n",
      "ROC: 0.5081618043904793\n"
     ]
    },
    {
     "data": {
      "image/png": "[encoded data removed]",
      "text/plain": [
       "<Figure size 360x360 with 1 Axes>"
      ]
     },
     "metadata": {
      "needs_background": "light"
     },
     "output_type": "display_data"
    }
   ],
   "source": [
    "Reg_Log = LogisticRegression(random_state=10, max_iter=500).fit(x_train, y_train)\n",
    "\n",
    "predict_Reg_Log = Reg_Log.predict(x_test)\n",
    "\n",
    "ROC_Reg_Log = roc_auc_score(y_test, predict_Reg_Log)\n",
    "print(metrics.classification_report(y_test, predict_Reg_Log))\n",
    "print(\"ROC:\", ROC_Reg_Log)\n",
    "\n",
    "fpr, tpr, thresholds = roc_curve(y_test, Reg_Log.predict_proba(x_test)[:, 1])\n",
    "plt.figure(figsize=(5, 5))\n",
    "plt.plot(fpr, tpr, label=\"Reg Log ROC (area = %0.2f)\" % ROC_Reg_Log)\n",
    "plt.plot([0, 1], [0, 1], \"r--\")\n",
    "plt.xlim([-0.05, 1.05])\n",
    "plt.ylim([-0.05, 1.05])\n",
    "plt.xlabel(\"False Positive Rate\")\n",
    "plt.ylabel(\"True Positive Rate\")\n",
    "plt.title(\"ROC Curve for Logistic Regression w/ Bootstrap\")\n",
    "plt.legend(loc=\"lower right\")\n",
    "plt.savefig(\"Reg Log\")\n",
    "plt.show()"
   ]
  },
  {
   "cell_type": "code",
   "execution_count": 23,
   "metadata": {},
   "outputs": [
    {
     "name": "stdout",
     "output_type": "stream",
     "text": [
      "              precision    recall  f1-score   support\n",
      "\n",
      "           0       0.85      0.99      0.92     31665\n",
      "           1       0.63      0.05      0.09      5871\n",
      "\n",
      "    accuracy                           0.85     37536\n",
      "   macro avg       0.74      0.52      0.50     37536\n",
      "weighted avg       0.82      0.85      0.79     37536\n",
      "\n",
      "ROC: 0.5217358184384445\n"
     ]
    },
    {
     "data": {
      "image/png": "[encoded data removed]",
      "text/plain": [
       "<Figure size 360x360 with 1 Axes>"
      ]
     },
     "metadata": {
      "needs_background": "light"
     },
     "output_type": "display_data"
    }
   ],
   "source": [
    "Rand_Forest_clasif = RandomForestClassifier(\n",
    "    n_estimators=500,\n",
    "    random_state=42,\n",
    "    min_samples_split=5,\n",
    "    max_depth=30,\n",
    "    max_features=\"sqrt\",\n",
    "    bootstrap=True,\n",
    ")\n",
    "\n",
    "Rand_Forest_clasif.fit(x_train.values, y_train)\n",
    "\n",
    "y_pred_Rand_Forest = Rand_Forest_clasif.predict(x_test.values)\n",
    "\n",
    "ROC_Rand_Forest = roc_auc_score(y_test, y_pred_Rand_Forest)\n",
    "print(classification_report(y_test, y_pred_Rand_Forest))\n",
    "print(\"ROC:\", ROC_Rand_Forest)\n",
    "\n",
    "fpr, tpr, thresholds = roc_curve(y_test, Rand_Forest_clasif.predict_proba(x_test.values)[:, 1])\n",
    "plt.figure(figsize=(5, 5))\n",
    "plt.plot(fpr, tpr, label=\"Rand Forest ROC (area = %0.2f)\" % ROC_Rand_Forest)\n",
    "plt.plot([0, 1], [0, 1], 'r--')\n",
    "plt.xlim([-0.05, 1.05])\n",
    "plt.ylim([-0.05, 1.05])\n",
    "plt.xlabel(\"False Positive Rate\")\n",
    "plt.ylabel(\"True Positive Rate\")\n",
    "plt.title(\"ROC Curve for Random Forest w/ Bootstrap\")\n",
    "plt.legend(loc=\"lower right\")\n",
    "plt.savefig(\"Rand Forest\")\n",
    "plt.show()"
   ]
  },
  {
   "cell_type": "code",
   "execution_count": 24,
   "metadata": {},
   "outputs": [
    {
     "data": {
      "image/png": "[encoded data removed]",
      "text/plain": [
       "<Figure size 864x432 with 2 Axes>"
      ]
     },
     "metadata": {
      "needs_background": "light"
     },
     "output_type": "display_data"
    }
   ],
   "source": [
    "ran = confusion_matrix(y_test, y_pred_Rand_Forest)\n",
    "log = confusion_matrix(y_test, predict_Reg_Log)\n",
    "\n",
    "fig, axes = plt.subplots(1, 2, figsize=(12, 6))\n",
    "\n",
    "sns.heatmap(log, annot=True, fmt=\"d\", cmap=\"Oranges\", cbar=False, ax=axes[0])\n",
    "axes[0].set_xlabel(\"Predicted\")\n",
    "axes[0].set_ylabel(\"Actual\")\n",
    "axes[0].set_title(\"Random Forest Confusion Matrix\")\n",
    "\n",
    "sns.heatmap(ran, annot=True, fmt=\"d\", cmap=\"Greens\", cbar=False, ax=axes[1])\n",
    "axes[1].set_xlabel(\"Predicted\")\n",
    "axes[1].set_ylabel(\"Actual\")\n",
    "axes[1].set_title(\"Logistic Regression Confusion Matrix\")\n",
    "\n",
    "plt.show()"
   ]
  },
  {
   "cell_type": "markdown",
   "metadata": {},
   "source": [
    "Neither of these models, even with the Bootstrap resampling, are good enough to accurately predict whether a user will interact with the `in_app_purchase` event or not.\n",
    "\n",
    "If we were to properly take on this predictive problem with a ML approach, we could do a couple of things: look to create an incredibly powerful & complex DL model, which I'm not particularly sure how it would work, or rediscuss the process of how the data is generated and  gathered. I'd personally go with the latter.\n",
    "\n",
    "LP."
   ]
  }
 ],
 "metadata": {
  "kernelspec": {
   "display_name": "Python 3",
   "language": "python",
   "name": "python3"
  },
  "language_info": {
   "codemirror_mode": {
    "name": "ipython",
    "version": 3
   },
   "file_extension": ".py",
   "mimetype": "text/x-python",
   "name": "python",
   "nbconvert_exporter": "python",
   "pygments_lexer": "ipython3",
   "version": "3.9.6"
  }
 },
 "nbformat": 4,
 "nbformat_minor": 2
}
